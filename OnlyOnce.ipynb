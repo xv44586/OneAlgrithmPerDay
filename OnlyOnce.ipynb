{
 "cells": [
  {
   "cell_type": "markdown",
   "metadata": {},
   "source": [
    "# 1.比较"
   ]
  },
  {
   "cell_type": "code",
   "execution_count": 6,
   "metadata": {},
   "outputs": [
    {
     "data": {
      "text/plain": [
       "1"
      ]
     },
     "execution_count": 6,
     "metadata": {},
     "output_type": "execute_result"
    }
   ],
   "source": [
    "def find(L):\n",
    "    L = sorted(L)\n",
    "    for i in range(0, len(L), 2):\n",
    "        if L[i] != L[i+1]:\n",
    "            return L[i]\n",
    "\n",
    "find([2, 2, 4, 4, 1])\n",
    "# 1"
   ]
  },
  {
   "cell_type": "markdown",
   "metadata": {},
   "source": [
    "### 2. 做差"
   ]
  },
  {
   "cell_type": "code",
   "execution_count": 28,
   "metadata": {},
   "outputs": [
    {
     "data": {
      "text/plain": [
       "1"
      ]
     },
     "execution_count": 28,
     "metadata": {},
     "output_type": "execute_result"
    }
   ],
   "source": [
    "from functools import reduce\n",
    "\n",
    "\n",
    "def find_diff(L):\n",
    "    L = sorted(L)\n",
    "    sum_odd = reduce(lambda a,b: a+b, [L[i] for i in range(1, len(L), 2)])\n",
    "    sum_even = reduce(lambda a,b: a+b, [L[i] for i in range(0, len(L), 2)])\n",
    "    return sum_even - sum_odd\n",
    "\n",
    "find_diff([2, 4, 2,4, 1])\n",
    "# 1"
   ]
  },
  {
   "cell_type": "markdown",
   "metadata": {},
   "source": [
    "### 3.hashset去重"
   ]
  },
  {
   "cell_type": "code",
   "execution_count": 24,
   "metadata": {},
   "outputs": [],
   "source": [
    "def find_set(L):\n",
    "    seen = set()\n",
    "    for item in L:\n",
    "        if item not in seen:\n",
    "            seen.add(item)\n",
    "        else:\n",
    "            seen.remove(item)\n",
    "    \n",
    "    return seen.pop()\n",
    "\n",
    "find_set([2, 2, 3, 3, 1])\n",
    "# 1"
   ]
  },
  {
   "cell_type": "markdown",
   "metadata": {},
   "source": [
    "### 4.异或"
   ]
  },
  {
   "cell_type": "code",
   "execution_count": 26,
   "metadata": {},
   "outputs": [],
   "source": [
    "def find_xor(L):\n",
    "    return reduce(lambda a, b: a^b, L)\n",
    "\n",
    "find_xor([1,2,1])\n",
    "# 2"
   ]
  },
  {
   "cell_type": "markdown",
   "metadata": {},
   "source": [
    "### 两个不同数字出现过一次"
   ]
  },
  {
   "cell_type": "code",
   "execution_count": 47,
   "metadata": {},
   "outputs": [
    {
     "data": {
      "text/plain": [
       "[22, 33]"
      ]
     },
     "execution_count": 47,
     "metadata": {},
     "output_type": "execute_result"
    }
   ],
   "source": [
    "def find_tow_xor(L):\n",
    "    res = reduce(lambda a, b: a^b, L)\n",
    "    bitindex = 0\n",
    "    for i in range(32):\n",
    "        # 按位进行 且 运算，找到第一个是1的index\n",
    "        if res>>i & 1:\n",
    "            bitindex = i\n",
    "            break\n",
    "    \n",
    "    L_0, L_1 = [], []\n",
    "    for item in L:\n",
    "        if item >> bitindex & 1:\n",
    "            L_1.append(item)\n",
    "        else:\n",
    "            L_0.append(item)\n",
    "    first = find_xor(L_0)\n",
    "    sec = find_xor(L_1)\n",
    "    return [first, sec]\n",
    "\n",
    "find_tow_xor([1,2, 1, 2, 11, 11, 22, 33])\n",
    "#[22, 33]"
   ]
  },
  {
   "cell_type": "code",
   "execution_count": null,
   "metadata": {},
   "outputs": [],
   "source": []
  }
 ],
 "metadata": {
  "kernelspec": {
   "display_name": "Python 3",
   "language": "python",
   "name": "python3"
  },
  "language_info": {
   "codemirror_mode": {
    "name": "ipython",
    "version": 3
   },
   "file_extension": ".py",
   "mimetype": "text/x-python",
   "name": "python",
   "nbconvert_exporter": "python",
   "pygments_lexer": "ipython3",
   "version": "3.7.1"
  }
 },
 "nbformat": 4,
 "nbformat_minor": 2
}
