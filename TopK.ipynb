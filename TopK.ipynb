{
 "cells": [
  {
   "cell_type": "markdown",
   "metadata": {},
   "source": [
    "### 冒泡排序"
   ]
  },
  {
   "cell_type": "code",
   "execution_count": 143,
   "metadata": {},
   "outputs": [
    {
     "data": {
      "text/plain": [
       "[8, 11]"
      ]
     },
     "execution_count": 143,
     "metadata": {},
     "output_type": "execute_result"
    }
   ],
   "source": [
    "def bubble_sort(L, k):\n",
    "    if k >= len(L):\n",
    "        pass\n",
    "    \n",
    "    for i in range(k):\n",
    "        # 设置一个flag，如果某一个循环没有交换，则整个有序，停止整个循环\n",
    "        flag = True\n",
    "        for j in range(len(L) - i - 1):\n",
    "            if L[j] > L[j+1]:\n",
    "                flag = False\n",
    "                L[j], L[j+1] = L[j+1], L[j]\n",
    "        if flag:\n",
    "            break\n",
    "    \n",
    "    return L[len(L)-k:]\n",
    "\n",
    "L = [4, 7, 8, 11, 3, 2]\n",
    "bubble_sort(L, 2)\n",
    "# [8, 11]"
   ]
  },
  {
   "cell_type": "markdown",
   "metadata": {},
   "source": [
    "### 快速排序"
   ]
  },
  {
   "cell_type": "code",
   "execution_count": 145,
   "metadata": {},
   "outputs": [
    {
     "name": "stdout",
     "output_type": "stream",
     "text": [
      "[5, 4, 1, 2, 3]\n",
      "1\n",
      "[5, 4, 3, 2, 1]\n",
      "[5, 4, 3, 2, 1]\n"
     ]
    },
    {
     "data": {
      "text/plain": [
       "[5, 4]"
      ]
     },
     "execution_count": 145,
     "metadata": {},
     "output_type": "execute_result"
    }
   ],
   "source": [
    "def partition(L, left, right):\n",
    "    \"\"\"\n",
    "    将L[left:right]进行一次快速排序的partition，返回分割点\n",
    "   :param L: 数据List\n",
    "    :param left: 排序起始位置\n",
    "   :param right: 排序终止位置\n",
    "   :return: 分割点\n",
    "    \"\"\"\n",
    "    if left < right:\n",
    "        key = L[left]\n",
    "        low = left\n",
    "        high = right\n",
    "        while low < high:\n",
    "            while low < high and L[high] <= key:\n",
    "                high = high - 1\n",
    "            L[low] = L[high]\n",
    "            while low < high and L[low] >= key:\n",
    "                low = low + 1\n",
    "            L[high] = L[low]\n",
    "        L[low] = key\n",
    "    print(L)\n",
    "    return low\n",
    "\n",
    "def topK(K, L):\n",
    "    if K > len(L):\n",
    "        pass\n",
    "    l = 0\n",
    "    r = len(L) - 1\n",
    "    j = partition(L, l, r)\n",
    "    print(j)\n",
    "    while j != K:\n",
    "        if j < K:\n",
    "            l = j + 1\n",
    "        else:\n",
    "            r = j\n",
    "            \n",
    "        j = partition(L, l, r)\n",
    "        \n",
    "    return L[:K]\n",
    "\n",
    "# test\n",
    "L = [4,3,1,2,5]\n",
    "right=len(L)-1\n",
    "left=0\n",
    "\n",
    "topK(2,L)\n",
    "#[5, 4]"
   ]
  },
  {
   "cell_type": "markdown",
   "metadata": {},
   "source": [
    "### 数据池"
   ]
  },
  {
   "cell_type": "code",
   "execution_count": 133,
   "metadata": {},
   "outputs": [
    {
     "data": {
      "text/plain": [
       "[7, 9]"
      ]
     },
     "execution_count": 133,
     "metadata": {},
     "output_type": "execute_result"
    }
   ],
   "source": [
    "import heapq\n",
    "def TopK(L, k):\n",
    "    \"\"\"\n",
    "    利用大小为K的堆作为数据池，依次对比\n",
    "    tips：headp实现的是小顶堆，无法传入比较函数，若要实现最小的TopK，可以传入-item,pop后取负还原\n",
    "    \"\"\"\n",
    "    r = []\n",
    "    for j in range(len(L)):\n",
    "        if j < k:\n",
    "            heapq.heappush(r, L[j])\n",
    "        else:\n",
    "            if r[0] < L[j]:\n",
    "                heapq.heapreplace(r, L[j])\n",
    "        \n",
    "    \n",
    "    return r\n",
    "\n",
    "# test\n",
    "L = [9,7,1,2,6,3]\n",
    "TopK(L,2)\n",
    "# [7, 9]"
   ]
  },
  {
   "cell_type": "code",
   "execution_count": null,
   "metadata": {},
   "outputs": [],
   "source": []
  }
 ],
 "metadata": {
  "kernelspec": {
   "display_name": "Python 3",
   "language": "python",
   "name": "python3"
  },
  "language_info": {
   "codemirror_mode": {
    "name": "ipython",
    "version": 3
   },
   "file_extension": ".py",
   "mimetype": "text/x-python",
   "name": "python",
   "nbconvert_exporter": "python",
   "pygments_lexer": "ipython3",
   "version": "3.7.1"
  }
 },
 "nbformat": 4,
 "nbformat_minor": 2
}
