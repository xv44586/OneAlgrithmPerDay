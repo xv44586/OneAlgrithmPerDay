{
 "cells": [
  {
   "cell_type": "code",
   "execution_count": 46,
   "metadata": {},
   "outputs": [],
   "source": [
    "import jieba\n",
    "import jieba.analyse as analyse\n",
    "import numpy as np"
   ]
  },
  {
   "cell_type": "code",
   "execution_count": 99,
   "metadata": {},
   "outputs": [],
   "source": [
    "class SimHash(object):\n",
    "    def __init__(self, content, topK=20):\n",
    "        self.topK = topK\n",
    "        self.simhash = self.getSimHash(content)\n",
    "    \n",
    "    def getSimHash(self, content):\n",
    "        seg = jieba.cut(content)\n",
    "#         jieba.analyse.set_stop_words('stopword.txt')\n",
    "        #topk words and it's tf/idf \n",
    "        keyWords = jieba.analyse.extract_tags(\n",
    "            '|'.join(seg), topK=self.topK, withWeight=True, allowPOS=())\n",
    "#         print(keyWords)\n",
    "        word_list = []\n",
    "        for feature, weight in keyWords:\n",
    "            feature = self.string_hash(feature)\n",
    "            temp = []\n",
    "            for i in feature:\n",
    "                if i == '1':\n",
    "                    temp.append(weight)\n",
    "                else:\n",
    "                    temp.append(-weight)\n",
    "            word_list.append(temp)\n",
    "        hashSum = np.sum(np.array(word_list), axis=0)\n",
    "        simhash = ''\n",
    "        for code in hashSum:\n",
    "            if code > 0:\n",
    "                simhash += '1'\n",
    "            else:\n",
    "                simhash += '0'\n",
    "        return simhash\n",
    "    \n",
    "    def string_hash(self,source):\n",
    "        if source == \"\":\n",
    "            return 0\n",
    "        else:\n",
    "            x = ord(source[0]) << 7\n",
    "            m = 1000003\n",
    "            mask = 2 ** 128 - 1\n",
    "            for c in source:\n",
    "                x = ((x * m) ^ ord(c)) & mask\n",
    "            x ^= len(source)\n",
    "            if x == -1:\n",
    "                x = -2\n",
    "            x = bin(x).replace('0b', '').zfill(64)[-64:]\n",
    "#             print(source,x)\n",
    "            return x\n",
    " \n"
   ]
  },
  {
   "cell_type": "code",
   "execution_count": 100,
   "metadata": {},
   "outputs": [],
   "source": [
    "def hamDis(l1, l2):\n",
    "#异或\n",
    "    lxor = int(l1,2) ^ int(l2,2)\n",
    "    c = 0\n",
    "    #计算异或结果1的个数\n",
    "    while(lxor):\n",
    "        lxor &= lxor-1\n",
    "        c += 1\n",
    "    return c"
   ]
  },
  {
   "cell_type": "code",
   "execution_count": 105,
   "metadata": {},
   "outputs": [],
   "source": [
    "a = SimHash('''机器学习(Machine Learning, ML)是一门多领域交叉学科，涉及概率论、统计学、逼近论、凸分析、算法复杂度理论等多门学科。\n",
    "专门研究计算机怎样模拟或实现人类的学习行为，以获取新的知识或技能，重新组织已有的知识结构使之不断改善自身的性能。\n",
    "它是人工智能的核心，是使计算机具有智能的根本途径，其应用遍及人工智能的各个领域，它主要使用归纳、综合而不是演绎。''')\n",
    "b = SimHash('''机器学习有下面几种定义： “机器学习是一门人工智能的科学，该领域的主要研究对象是人工智能，特别是如何在经验学习中\n",
    "改善具体算法的性能”。 “机器学习是对能通过经验自动改进的计算机算法的研究”。 “机器学习是用数据或以往的经验，以此优化计算机程序的性能\n",
    "标准。” 一种''')"
   ]
  },
  {
   "cell_type": "code",
   "execution_count": 106,
   "metadata": {},
   "outputs": [
    {
     "data": {
      "text/plain": [
       "22"
      ]
     },
     "execution_count": 106,
     "metadata": {},
     "output_type": "execute_result"
    }
   ],
   "source": [
    "hamDis(a.simhash, b.simhash)"
   ]
  },
  {
   "cell_type": "code",
   "execution_count": 108,
   "metadata": {},
   "outputs": [
    {
     "data": {
      "text/plain": [
       "18446744073709551616"
      ]
     },
     "execution_count": 108,
     "metadata": {},
     "output_type": "execute_result"
    }
   ],
   "source": [
    "2**64"
   ]
  },
  {
   "cell_type": "code",
   "execution_count": null,
   "metadata": {},
   "outputs": [],
   "source": []
  }
 ],
 "metadata": {
  "kernelspec": {
   "display_name": "Python 2",
   "language": "python",
   "name": "python2"
  },
  "language_info": {
   "codemirror_mode": {
    "name": "ipython",
    "version": 3
   },
   "file_extension": ".py",
   "mimetype": "text/x-python",
   "name": "python",
   "nbconvert_exporter": "python",
   "pygments_lexer": "ipython3",
   "version": "3.7.1"
  }
 },
 "nbformat": 4,
 "nbformat_minor": 2
}
