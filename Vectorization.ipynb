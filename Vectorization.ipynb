{
 "cells": [
  {
   "cell_type": "code",
   "execution_count": 4,
   "metadata": {},
   "outputs": [],
   "source": [
    "import numpy as np\n",
    "import time"
   ]
  },
  {
   "cell_type": "code",
   "execution_count": 5,
   "metadata": {},
   "outputs": [
    {
     "name": "stdout",
     "output_type": "stream",
     "text": [
      "result: 24952.322518920842\n",
      "Vectorization version: 0.000209808349609375ms\n",
      "result: 24952.32251892092\n",
      "for loop version: 0.05671977996826172ms\n"
     ]
    }
   ],
   "source": [
    "# for loop vs vectorization\n",
    "a = np.random.rand(100000)\n",
    "b = np.random.rand(100000)\n",
    "tic = time.time()\n",
    "c = np.dot(a, b)\n",
    "toc = time.time()\n",
    "print('result: ' + str(c))\n",
    "print('Vectorization version: ' + str(toc - tic) + 'ms')\n",
    "\n",
    "d = 0\n",
    "tic = time.time()\n",
    "for i in range(len(a)):\n",
    "    d += a[i] * b[i]\n",
    "toc = time.time()\n",
    "print('result: ' + str(d))\n",
    "print('for loop version: ' + str(toc - tic) + 'ms')"
   ]
  },
  {
   "cell_type": "code",
   "execution_count": 3,
   "metadata": {},
   "outputs": [
    {
     "data": {
      "text/plain": [
       "2520.9760176172595"
      ]
     },
     "execution_count": 3,
     "metadata": {},
     "output_type": "execute_result"
    }
   ],
   "source": [
    "c"
   ]
  },
  {
   "cell_type": "code",
   "execution_count": null,
   "metadata": {},
   "outputs": [],
   "source": []
  }
 ],
 "metadata": {
  "kernelspec": {
   "display_name": "Python 3",
   "language": "python",
   "name": "python3"
  },
  "language_info": {
   "codemirror_mode": {
    "name": "ipython",
    "version": 3
   },
   "file_extension": ".py",
   "mimetype": "text/x-python",
   "name": "python",
   "nbconvert_exporter": "python",
   "pygments_lexer": "ipython3",
   "version": "3.7.1"
  }
 },
 "nbformat": 4,
 "nbformat_minor": 2
}
